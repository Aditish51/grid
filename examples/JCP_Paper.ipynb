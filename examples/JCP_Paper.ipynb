{
 "cells": [
  {
   "cell_type": "markdown",
   "metadata": {},
   "source": [
    "[![Open In Colab](https://colab.research.google.com/assets/colab-badge.svg)](https://colab.research.google.com/github/theochem/grid/blob/master/examples/JCP_Paper.ipynb)\n"
   ]
  },
  {
   "cell_type": "markdown",
   "metadata": {},
   "source": [
    "# Grid Publication Examples\n",
    "\n",
    "This notebook provides the examples of the use of [`qc-grid`](https://grid.qcdevs.org/index.html) provided in the publication article.\n",
    "\n",
    "## Install Dependencies and Download Data\n",
    "\n",
    "This notebook requires several dependencies and data. The next cell will install the required dependencies if they are not already installed. It will also download the data required for the examples if it is not already downloaded.\n"
   ]
  },
  {
   "cell_type": "code",
   "execution_count": null,
   "metadata": {},
   "outputs": [],
   "source": [
    "! python -m pip install numpy\n",
    "! python -m pip install matplotlib\n",
    "! python -m pip install scipy\n",
    "! python -m pip install urllib3\n",
    "! python -m pip install git+https://github.com/theochem/grid.git\n",
    "! python -m pip install git+https://github.com/theochem/iodata.git\n",
    "! python -m pip install git+https://github.com/theochem/gbasis.git\n",
    "\n",
    "import os\n",
    "from urllib.request import urlretrieve\n",
    "\n",
    "# download the required data files\n",
    "file_path = \"ch2o_q+0.fchk\"\n",
    "if not os.path.isfile(file_path):\n",
    "    url = \"https://github.com/theochem/grid/blob/master/examples/ch2o_q%2B0.fchk?raw=true\"\n",
    "    urlretrieve(url, file_path)"
   ]
  },
  {
   "cell_type": "markdown",
   "metadata": {},
   "source": [
    "## Grid Construction and Integration\n",
    "\n",
    "### 1. Radial Grids: One-Dimensional Grids and Radial Transformation\n",
    "\n",
    "The following example shows how to build a radial grid by combining a one-dimensional grid (e.g., Gauss-Chebyshev Type 2) and a radial transformation (e.g., Becke transformation).\n"
   ]
  },
  {
   "cell_type": "code",
   "execution_count": 1,
   "metadata": {
    "ExecuteTime": {
     "end_time": "2024-01-16T02:35:53.130976543Z",
     "start_time": "2024-01-16T02:35:52.757884110Z"
    }
   },
   "outputs": [
    {
     "name": "stdout",
     "output_type": "stream",
     "text": [
      "Number of 1D grid points:  30\n",
      "Domain of 1D grid:  (-1, 1)\n",
      "Integral of Gaussian s-function:  1.2525724696180882\n"
     ]
    }
   ],
   "source": [
    "import numpy as np\n",
    "from grid.onedgrid import GaussChebyshevType2\n",
    "from grid.rtransform import BeckeRTransform\n",
    "\n",
    "# Generate 1D grid on [-1, 1] interval\n",
    "oned = GaussChebyshevType2(30)\n",
    "print(\"Number of 1D grid points: \", oned.size)  # outputs 30\n",
    "print(\"Domain of 1D grid: \", oned.domain)  # outputs (-1, 1)\n",
    "\n",
    "# Transform 1D grid using Becke transformation\n",
    "rgrid = BeckeRTransform(1.0e-4, 1.5).transform_1d_grid(oned)\n",
    "\n",
    "# Integrate Gaussian s-function from 0 to infinity\n",
    "integral = rgrid.integrate(np.exp(-0.5 * rgrid.points**2))\n",
    "print(\"Integral of Gaussian s-function: \", integral)  # outputs sqrt(pi/2)"
   ]
  },
  {
   "cell_type": "markdown",
   "metadata": {},
   "source": [
    "### 2. Angular Grids\n",
    "\n",
    "The following example shows construct and integrate over an angular grid. The `degree` is required to construct an angular grid, however, the user can also specify the number of grid points (i.e., `size`) to construct the grid and set the `degree` to `None`.\n"
   ]
  },
  {
   "cell_type": "code",
   "execution_count": 6,
   "metadata": {
    "ExecuteTime": {
     "end_time": "2024-01-16T02:35:53.138717104Z",
     "start_time": "2024-01-16T02:35:53.133395526Z"
    }
   },
   "outputs": [
    {
     "name": "stdout",
     "output_type": "stream",
     "text": [
      "Degree of angular grid:  19\n",
      "Number of angular grid points:  146\n",
      "Shape of angular grid points:  (146, 3)\n",
      "Shape of angular grid weights:  (146,)\n",
      "Norm of the grid points is all one: True\n",
      "Integral of constant function 1 over the sphere:  12.566370614358954\n"
     ]
    }
   ],
   "source": [
    "import numpy as np\n",
    "from grid import AngularGrid\n",
    "\n",
    "# Make an instance of AngularGrid given a Lebedev-Laikov grid size\n",
    "g = AngularGrid(degree=None, size=140, method=\"Lebedev\")\n",
    "print(\"Degree of angular grid: \", g.degree)  # outputs 19\n",
    "print(\"Number of angular grid points: \", g.size)  # outputs 146\n",
    "print(\"Shape of angular grid points: \", g.points.shape)  # outputs (146, 3)\n",
    "print(\"Shape of angular grid weights: \", g.weights.shape)  # outputs (146,)\n",
    "\n",
    "# Confirm that angular grid points are on the unit sphere\n",
    "norm = np.linalg.norm(g.points, axis=1)\n",
    "print(\"Norm of the grid points is all one:\", np.all(np.abs(norm - 1.0) < 1e-8))\n",
    "\n",
    "# Evaluate surface area of the unit sphere,\n",
    "# i.e., integrate constant function 1\n",
    "integral = g.integrate(np.ones(g.size))\n",
    "print(\"Integral of constant function 1 over the sphere: \", integral)  # 4*pi"
   ]
  },
  {
   "cell_type": "markdown",
   "metadata": {},
   "source": [
    "### 3. Atomic Grid\n",
    "\n",
    "The following example shows three ways to construct an atomic grid.\n"
   ]
  },
  {
   "cell_type": "code",
   "execution_count": 9,
   "metadata": {
    "ExecuteTime": {
     "end_time": "2024-01-16T02:35:53.177792403Z",
     "start_time": "2024-01-16T02:35:53.140311146Z"
    }
   },
   "outputs": [
    {
     "name": "stdout",
     "output_type": "stream",
     "text": [
      "Number of atomic grid points:  1500\n",
      "Number of atomic grid points:  264\n",
      "Number of atomic grid points:  1036\n"
     ]
    }
   ],
   "source": [
    "from grid.atomgrid import AtomGrid\n",
    "\n",
    "# Option 1: using radial grid and degrees of Lebedev-Laikov angular grid\n",
    "atgrid = AtomGrid(rgrid, degrees=[11])\n",
    "print(\"Number of atomic grid points: \", atgrid.size)  # outputs 1500\n",
    "\n",
    "# Option 2: using radial grid and  atomic radius & sectors\n",
    "atgrid = AtomGrid.from_pruned(rgrid, radius=0.5, r_sectors=[0.5, 1.0, 1.5], d_sectors=[3, 7, 5, 3])\n",
    "print(\"Number of atomic grid points: \", atgrid.size)  # outputs 264\n",
    "\n",
    "# Option 3: using radial grid, atomic number, and preset\n",
    "atgrid = AtomGrid.from_preset(atnum=1, preset=\"coarse\", rgrid=rgrid)\n",
    "print(\"Number of atomic grid points: \", atgrid.size)  # outputs 1036"
   ]
  },
  {
   "cell_type": "markdown",
   "metadata": {},
   "source": [
    "### 4. Molecular Grid\n",
    "\n",
    "A molecular grid is constructed by combining atomic grids centered at each atom. A molecular grid needs to use atoms in molecules (AIM) weights for achieving a proper integration over the molecular grid. The following example shows how to construct a molecular grid and integrate over it.\n",
    "\n",
    "#### Provide data needed for molecular grid construction\n",
    "\n",
    "Fist, we need the data needed for molecular grid construction, this includes the molecular geometry, the atomic numbers and for testing purpose, a way to get the function values at the grid points. In this example, we use formaldehyde as the molecule and as function values its electron density.\n",
    "\n",
    "##### Select the AIM weights scheme\n"
   ]
  },
  {
   "cell_type": "code",
   "execution_count": 10,
   "metadata": {
    "ExecuteTime": {
     "end_time": "2024-01-16T02:35:53.207116814Z",
     "start_time": "2024-01-16T02:35:53.165991046Z"
    }
   },
   "outputs": [],
   "source": [
    "from grid.becke import BeckeWeights\n",
    "\n",
    "# Make an instance of BeckeWeights class\n",
    "aim_weights = BeckeWeights(radii=None, order=3)"
   ]
  },
  {
   "cell_type": "markdown",
   "metadata": {},
   "source": [
    "##### Load formaldehyde molecule data (molecular geometry, nuclear charges and atomic coordinates)\n"
   ]
  },
  {
   "cell_type": "code",
   "execution_count": 11,
   "metadata": {
    "ExecuteTime": {
     "end_time": "2024-01-16T02:35:53.264415539Z",
     "start_time": "2024-01-16T02:35:53.207055256Z"
    }
   },
   "outputs": [
    {
     "name": "stdout",
     "output_type": "stream",
     "text": [
      "Atomic Numbers:  [8 6 1 1]\n",
      "Atomic Core Charges:  [8. 6. 1. 1.]\n",
      "Atomic Coordinates:  [[ 2.27823914e+00  4.13899085e-07  3.12033662e-07]\n",
      " [ 1.01154892e-02  1.09802629e-07 -6.99333116e-07]\n",
      " [-1.09577141e+00  1.77311416e+00  1.42544321e-07]\n",
      " [-1.09577166e+00 -1.77311468e+00  2.44755133e-07]]\n"
     ]
    }
   ],
   "source": [
    "from iodata import load_one\n",
    "\n",
    "# Load formatted-checkpoint file of formaldehyde molecule. Source:\n",
    "# https://github.com/theochem/grid/blob/master/doc/notebooks/ch2o_q%2B0.fchk\n",
    "mol = load_one(\"ch2o_q+0.fchk\")\n",
    "\n",
    "# Get atomic numbers, core numbers, and Cartesian coordinates\n",
    "atnums, atcharges, atcoords = mol.atnums, mol.atcorenums, mol.atcoords\n",
    "\n",
    "print(\"Atomic Numbers: \", atnums)\n",
    "print(\"Atomic Core Charges: \", atcharges)\n",
    "print(\"Atomic Coordinates: \", atcoords)"
   ]
  },
  {
   "cell_type": "markdown",
   "metadata": {},
   "source": [
    "#### Construct the molecular grid\n",
    "\n",
    "- **From a set of atomic grids (one for each atom)**\n"
   ]
  },
  {
   "cell_type": "code",
   "execution_count": 16,
   "metadata": {
    "ExecuteTime": {
     "end_time": "2024-01-16T02:35:53.363438407Z",
     "start_time": "2024-01-16T02:35:53.267217780Z"
    }
   },
   "outputs": [
    {
     "name": "stdout",
     "output_type": "stream",
     "text": [
      "Number molecular grid points:  42720\n"
     ]
    }
   ],
   "source": [
    "from grid.molgrid import MolGrid\n",
    "\n",
    "# Option 1: Construct a molecular grid from atomic grids\n",
    "atgrids = [\n",
    "    AtomGrid(rgrid, degrees=[53], center=atcoords[0]),  # for oxygen\n",
    "    AtomGrid(rgrid, degrees=[30], center=atcoords[1]),  # for carbon\n",
    "    AtomGrid(rgrid, degrees=[10], center=atcoords[2]),  # for hydrogen 1\n",
    "    AtomGrid(rgrid, degrees=[10], center=atcoords[3]),  # for hydrogen 2\n",
    "]\n",
    "molgrid = MolGrid(atnums, atgrids, aim_weights, store=True)\n",
    "\n",
    "print(\"Number molecular grid points: \", molgrid.size)  # outputs 39120"
   ]
  },
  {
   "cell_type": "markdown",
   "metadata": {},
   "source": [
    "- **Using predefined pruned grids corresponding to each nucleus**\n"
   ]
  },
  {
   "cell_type": "code",
   "execution_count": 17,
   "metadata": {
    "ExecuteTime": {
     "end_time": "2024-01-16T02:35:53.411299961Z",
     "start_time": "2024-01-16T02:35:53.363134556Z"
    }
   },
   "outputs": [
    {
     "name": "stdout",
     "output_type": "stream",
     "text": [
      "Number molecular grid points:  10200\n"
     ]
    }
   ],
   "source": [
    "# Option 2: Construct a molecular grid from predefined pruned angular grids\n",
    "molgrid = MolGrid.from_preset(\n",
    "    atnums, atcoords, preset=\"fine\", rgrid=rgrid, aim_weights=aim_weights, store=True\n",
    ")\n",
    "\n",
    "print(\"Number molecular grid points: \", molgrid.size)  # outputs 9892"
   ]
  },
  {
   "cell_type": "markdown",
   "metadata": {},
   "source": [
    "- **From the size of the angular grid**\n"
   ]
  },
  {
   "cell_type": "code",
   "execution_count": 18,
   "metadata": {
    "ExecuteTime": {
     "end_time": "2024-01-16T02:35:53.412431877Z",
     "start_time": "2024-01-16T02:35:53.411101405Z"
    }
   },
   "outputs": [
    {
     "name": "stdout",
     "output_type": "stream",
     "text": [
      "Number molecular grid points:  6000\n"
     ]
    }
   ],
   "source": [
    "# Option 3: Construct a molecular grid given size (40) of the angular grid\n",
    "molgrid = MolGrid.from_size(atnums, atcoords, 40, rgrid, aim_weights, store=True)\n",
    "\n",
    "print(\"Number molecular grid points: \", molgrid.size)  # outputs 6000"
   ]
  },
  {
   "cell_type": "markdown",
   "metadata": {},
   "source": [
    "- **From radial sectors and angular degrees associated with each sector**\n"
   ]
  },
  {
   "cell_type": "code",
   "execution_count": 42,
   "metadata": {
    "ExecuteTime": {
     "end_time": "2024-01-16T02:35:53.471861590Z",
     "start_time": "2024-01-16T02:35:53.411306372Z"
    }
   },
   "outputs": [
    {
     "name": "stdout",
     "output_type": "stream",
     "text": [
      "Number molecular grid points:  5904\n"
     ]
    }
   ],
   "source": [
    "# Option 4: Construct a molecular grid from user-defined pruned grids\n",
    "r_sectors = [\n",
    "    [0.25, 1.0, 1.5],  # for oxygen\n",
    "    [0.50, 1.0, 1.5],  # for carbon\n",
    "    [1.0],  # for hydrogen\n",
    "    [1.0],  # for hydrogen\n",
    "]\n",
    "d_sectors = [\n",
    "    [10, 15, 30, 10],  # for oxygen\n",
    "    [5, 10, 20, 10],  # for carbon\n",
    "    [5, 10],  # for hydrogen\n",
    "    [5, 10],  # for hydrogen\n",
    "]\n",
    "radius = 1.0\n",
    "molgrid = MolGrid.from_pruned(\n",
    "    atnums, atcoords, radius, r_sectors, d_sectors, rgrid=rgrid, aim_weights=aim_weights, store=True\n",
    ")\n",
    "\n",
    "print(\"Number molecular grid points: \", molgrid.size)  # outputs 5664"
   ]
  },
  {
   "cell_type": "markdown",
   "metadata": {},
   "source": [
    "#### Integrate molecular properties over the molecular grid\n"
   ]
  },
  {
   "cell_type": "code",
   "execution_count": 43,
   "metadata": {
    "ExecuteTime": {
     "end_time": "2024-01-16T02:35:53.669700475Z",
     "start_time": "2024-01-16T02:35:53.455085551Z"
    }
   },
   "outputs": [
    {
     "name": "stdout",
     "output_type": "stream",
     "text": [
      "Integral of electron density:  16.00330114188276\n"
     ]
    }
   ],
   "source": [
    "from gbasis.wrappers import from_iodata\n",
    "from gbasis.evals.density import evaluate_density\n",
    "\n",
    "# Evaluate the electron density in the grid points\n",
    "basis = from_iodata(mol)\n",
    "rdm = mol.one_rdms[\"scf\"]\n",
    "rho = evaluate_density(rdm, basis, molgrid.points)\n",
    "\n",
    "print(\"Integral of electron density: \", molgrid.integrate(rho))  # outputs 16.00"
   ]
  },
  {
   "cell_type": "markdown",
   "metadata": {},
   "source": [
    "### 5. Cubic Grids\n",
    "\n",
    "#### Construct uniform cubic grid from three axes, the corresponding step-sizes, the origin, and the shape (number of steps in each axis)\n"
   ]
  },
  {
   "cell_type": "code",
   "execution_count": 44,
   "metadata": {
    "ExecuteTime": {
     "end_time": "2024-01-16T02:35:53.670262596Z",
     "start_time": "2024-01-16T02:35:53.618235131Z"
    }
   },
   "outputs": [
    {
     "name": "stdout",
     "output_type": "stream",
     "text": [
      "Number of cubic grid points:  125000\n"
     ]
    }
   ],
   "source": [
    "import numpy as np\n",
    "from grid import UniformGrid\n",
    "\n",
    "# Make 3D cubic grid centered at the origin with points 0.01 units apart\n",
    "origin = np.array([0.0, 0.0, 0.0])\n",
    "axes = np.array([[0.01, 0.0, 0.0], [0.0, 0.01, 0.0], [0.0, 0.0, 0.01]])\n",
    "shape = np.array([50, 50, 50])\n",
    "g = UniformGrid(origin, axes, shape, weight=\"Trapezoid\")\n",
    "\n",
    "print(\"Number of cubic grid points: \", g.size)  # outputs 125000"
   ]
  },
  {
   "cell_type": "markdown",
   "metadata": {},
   "source": [
    "#### Construct a uniform cubic grid from molecule specifications\n"
   ]
  },
  {
   "cell_type": "code",
   "execution_count": 45,
   "metadata": {
    "ExecuteTime": {
     "end_time": "2024-01-16T02:35:53.714673858Z",
     "start_time": "2024-01-16T02:35:53.659186054Z"
    }
   },
   "outputs": [
    {
     "name": "stdout",
     "output_type": "stream",
     "text": [
      "Number of cubic grid points:  232356\n"
     ]
    }
   ],
   "source": [
    "# Construct a cubic grid with additional padding of 5\n",
    "# and points 0.2 units apart\n",
    "g = UniformGrid.from_molecule(atnums, atcoords, spacing=0.2, extension=5.0, rotate=True)\n",
    "\n",
    "print(\"Number of cubic grid points: \", g.size)  # outputs 232356"
   ]
  },
  {
   "cell_type": "markdown",
   "metadata": {},
   "source": [
    "#### Construct non-uniform cubic grid from three one-dimensional (their tensor product)\n"
   ]
  },
  {
   "cell_type": "code",
   "execution_count": 46,
   "metadata": {
    "ExecuteTime": {
     "end_time": "2024-01-16T02:35:53.715691905Z",
     "start_time": "2024-01-16T02:35:53.707083561Z"
    }
   },
   "outputs": [
    {
     "name": "stdout",
     "output_type": "stream",
     "text": [
      "cubic grid # of points:  18000\n"
     ]
    }
   ],
   "source": [
    "from grid import GaussChebyshevType2, GaussLegendre, Tensor1DGrids\n",
    "\n",
    "# Make instances of 1D grids\n",
    "oned1 = GaussChebyshevType2(30)\n",
    "oned2 = GaussLegendre(20)\n",
    "oned3 = GaussLegendre(30)\n",
    "\n",
    "# Make Tensor1DGrids grid by combining 1D grids\n",
    "g = Tensor1DGrids(oned1, oned2, oned3)\n",
    "\n",
    "print(\"cubic grid # of points: \", g.size)  # outputs 18000"
   ]
  },
  {
   "cell_type": "markdown",
   "metadata": {},
   "source": [
    "## Interpolation and Differentiation:\n",
    "\n",
    "The following example interpolates the electron density in the plane containing the formaldehyde.\n"
   ]
  },
  {
   "cell_type": "code",
   "execution_count": 47,
   "metadata": {
    "ExecuteTime": {
     "end_time": "2024-01-16T02:35:54.145369301Z",
     "start_time": "2024-01-16T02:35:53.707318561Z"
    }
   },
   "outputs": [
    {
     "name": "stdout",
     "output_type": "stream",
     "text": [
      "Maximum interpolation error:  0.21910531214712730685\n"
     ]
    }
   ],
   "source": [
    "import numpy as np\n",
    "\n",
    "# Sample 100 points uniformly along x and y axes\n",
    "x_vals = np.linspace(-4, 4, 100)\n",
    "y_vals = x_vals\n",
    "\n",
    "# Sample 3D points uniformly in the molecular xy-plane (z=0)\n",
    "x_vals, y_vals = np.meshgrid(x_vals, y_vals)\n",
    "x_vals, y_vals = x_vals.flatten(), y_vals.flatten()\n",
    "z_vals = np.zeros_like(x_vals)\n",
    "points = np.array([x_vals, y_vals, z_vals]).T  # interpolation requires 3D points\n",
    "\n",
    "# Interpolate electron density in the xy-plane\n",
    "func_interpolation = molgrid.interpolate(rho)\n",
    "rho_inter = func_interpolation(points=points)\n",
    "\n",
    "# Compute expected electron density using GBasis\n",
    "rho_expected = evaluate_density(rdm, basis, points)\n",
    "\n",
    "# Compare interpolated and expected electron density\n",
    "max_error = np.max(abs(rho_inter - rho_expected))\n",
    "print(\"Maximum interpolation error: \", max_error)  # outputs 0.219"
   ]
  },
  {
   "cell_type": "markdown",
   "metadata": {},
   "source": [
    "Compute gradient from the interpolated electron density.\n"
   ]
  },
  {
   "cell_type": "code",
   "execution_count": 48,
   "metadata": {
    "ExecuteTime": {
     "end_time": "2024-01-16T02:35:56.041090133Z",
     "start_time": "2024-01-16T02:35:54.142856767Z"
    }
   },
   "outputs": [],
   "source": [
    "# Compute the gradient at the interpolated points\n",
    "grad_rho_inter = func_interpolation(points=points, deriv=1)"
   ]
  },
  {
   "cell_type": "markdown",
   "metadata": {},
   "source": [
    "(optional) Code for plotting the electron density in fromaldehyde plane.\n"
   ]
  },
  {
   "cell_type": "code",
   "execution_count": 49,
   "metadata": {
    "ExecuteTime": {
     "end_time": "2024-01-16T02:35:56.557358899Z",
     "start_time": "2024-01-16T02:35:56.044276048Z"
    }
   },
   "outputs": [
    {
     "name": "stderr",
     "output_type": "stream",
     "text": [
      "/Users/farnaz/miniconda3/envs/env_x86_py311_horton3/lib/python3.11/site-packages/IPython/core/pylabtools.py:152: UserWarning: Casting input data from float128 to float64 for imshow.\n",
      "  fig.canvas.print_figure(bytes_io, **kw)\n"
     ]
    },
    {
     "data": {
      "image/png": "[encoded data removed]",
      "text/plain": [
       "<Figure size 800x600 with 2 Axes>"
      ]
     },
     "metadata": {},
     "output_type": "display_data"
    }
   ],
   "source": [
    "import matplotlib.pyplot as plt\n",
    "\n",
    "fig = plt.figure(figsize=(8, 6))\n",
    "ax1 = fig.add_subplot(111)\n",
    "\n",
    "# Plot the interpolated electron density as a 2D heatmap with specified color scale limits\n",
    "heatmap = ax1.imshow(\n",
    "    rho_inter.reshape(100, 100),\n",
    "    cmap=\"viridis\",\n",
    "    interpolation=\"none\",\n",
    "    extent=[-4, 4, -4, 4],\n",
    "    vmin=0,\n",
    "    vmax=0.8,\n",
    ")\n",
    "cbar = plt.colorbar(heatmap, ax=ax1, label=\"Electron Density\")\n",
    "cbar.ax.tick_params(labelsize=14)\n",
    "cbar.ax.set_ylabel(\"Electron Density\", fontsize=14)\n",
    "\n",
    "# Add symbols to the corresponding coordinates\n",
    "xy_coords = mol.atcoords[:, :2]\n",
    "\n",
    "symbols = [\"O\", \"C\", \"H\", \"H\"]\n",
    "\n",
    "for coord, symbol in zip(xy_coords, symbols):\n",
    "    ax1.text(\n",
    "        coord[0],\n",
    "        coord[1],\n",
    "        symbol,\n",
    "        color=\"red\",\n",
    "        ha=\"center\",\n",
    "        va=\"center\",\n",
    "        fontsize=14,\n",
    "        fontweight=\"bold\",\n",
    "    )\n",
    "\n",
    "ax1.tick_params(axis=\"both\", which=\"both\", labelsize=14)\n",
    "# Adjust the limits to fit your data and set labels and title\n",
    "ax1.set_xlim((-4, 4))\n",
    "ax1.set_ylim((-4, 4))\n",
    "ax1.set_xlabel(\"X\", fontsize=14)\n",
    "ax1.set_ylabel(\"Y\", fontsize=14)\n",
    "ax1.set_title(\"Interpolated Electron density for formaldehyde on the molecule plane\")\n",
    "plt.show()"
   ]
  },
  {
   "cell_type": "markdown",
   "metadata": {},
   "source": [
    "## Solving Poisson Equation\n",
    "\n",
    "The following example solves the Poisson equation on an atomic grid for unit-charge distribution:\n",
    "\n",
    "\\begin{equation}\n",
    "\\rho(r, \\theta, \\phi) = \\bigg( \\frac{\\alpha}{\\pi} \\bigg)^{1.5} e^{-\\alpha r_A^2},\n",
    "\\end{equation}\n",
    "where $\\alpha = 0.25$ and $r_A$ is the radius centered at the coordinate $[0, 1, 0]$.\n"
   ]
  },
  {
   "cell_type": "code",
   "execution_count": null,
   "metadata": {
    "ExecuteTime": {
     "end_time": "2024-01-16T02:35:58.527412533Z",
     "start_time": "2024-01-16T02:35:56.557733800Z"
    }
   },
   "outputs": [],
   "source": [
    "import numpy as np\n",
    "from grid.poisson import solve_poisson_bvp\n",
    "from grid.rtransform import BeckeRTransform, InverseRTransform\n",
    "from scipy.special import erf\n",
    "\n",
    "center = np.array([0, 1, 0])\n",
    "\n",
    "\n",
    "def charge_distribution(r, alpha=0.25):\n",
    "    r_a = np.linalg.norm(r - center, axis=1)\n",
    "    return (alpha / np.pi) ** (3.0 / 2.0) * np.exp(-alpha * r_a**2.0)\n",
    "\n",
    "\n",
    "def actual_potential(x, alpha=0.25):\n",
    "    r_a = np.linalg.norm(x - center, axis=1)\n",
    "    desired = erf(np.sqrt(alpha) * r_a) / r_a\n",
    "    desired[r_a == 0.0] = 0.0\n",
    "    return desired\n",
    "\n",
    "\n",
    "# define atomic grid at the center of the potential\n",
    "btf = BeckeRTransform(1.0e-4, 1.5)\n",
    "atgrid = AtomGrid.from_preset(atnum=1, preset=\"fine\", rgrid=rgrid, center=center)\n",
    "\n",
    "# Evaluate unit-charge density on atomic grid points\n",
    "func_vals = charge_distribution(atgrid.points)\n",
    "\n",
    "# Solve for the potential and evaluate it on atomic grid points\n",
    "potential = solve_poisson_bvp(\n",
    "    atgrid,\n",
    "    func_vals,\n",
    "    InverseRTransform(btf),\n",
    "    include_origin=True,\n",
    "    remove_large_pts=7.0,\n",
    ")\n",
    "potential_values = potential(atgrid.points)\n",
    "\n",
    "# Calculate the error between actual and solved potential\n",
    "err = np.abs(actual_potential(atgrid.points) - potential_values)\n",
    "print(f\"Max: {np.max(err)}, Mean: {np.mean(err)}, Std: {np.std(err)}\")\n",
    "# outputs Max: 1.932e-04, Mean: 5.998e-05, Std: 2.809e-05"
   ]
  },
  {
   "cell_type": "markdown",
   "metadata": {},
   "source": [
    "## Multipole Moments\n",
    "\n",
    "The following example illustrates how to use Grid's moment function to calculate the dipole moment $\\mu$ of formaldehyde.\n"
   ]
  },
  {
   "cell_type": "code",
   "execution_count": null,
   "metadata": {
    "ExecuteTime": {
     "end_time": "2024-01-16T02:35:58.533547611Z",
     "start_time": "2024-01-16T02:35:58.529986714Z"
    }
   },
   "outputs": [],
   "source": [
    "# Calculate the center of mass of the molecule\n",
    "center = np.matmul(mol.atmasses, atcoords) / np.sum(mol.atmasses)\n",
    "center = center[None, :]\n",
    "\n",
    "# calculate centered coordinates\n",
    "atcoords_cent = atcoords - center\n",
    "\n",
    "# Calculate the Cartesian moments of the electron density\n",
    "integrals, orders = molgrid.moments(1, center, rho, type_mom=\"cartesian\", return_orders=True)\n",
    "# calculate (X_a - X_c)**{n_x} (Y_a - Y_c)**{n_y} (Z_a - Z_c)**{n_z}\n",
    "cent_pts_with_order = atcoords_cent ** orders[:, None]\n",
    "# multiply over each corresponding moment axis (row)\n",
    "cent_pts_with_order = np.prod(cent_pts_with_order, axis=2)\n",
    "# calculate Z_a (X_a - X_c)**{n_x} (Y_a - Y_c)**{n_y} (Z_a - Z_c)**{n_z}\n",
    "result = np.einsum(\"ij,j->i\", cent_pts_with_order, atcharges)\n",
    "\n",
    "# sum electric dipole moment and remove [0,0,0] moment value\n",
    "result = (result - integrals.T).flatten()[1:]\n",
    "\n",
    "# Print dipole moment vector (should be the same as the dipole in FCHK file)\n",
    "print(\"Dipole moment: \", result)\n",
    "# ouputs -9.398e-01 -4.076e-04 -6.545e-06"
   ]
  }
 ],
 "metadata": {
  "kernelspec": {
   "display_name": "grid_env",
   "language": "python",
   "name": "python3"
  },
  "language_info": {
   "codemirror_mode": {
    "name": "ipython",
    "version": 3
   },
   "file_extension": ".py",
   "mimetype": "text/x-python",
   "name": "python",
   "nbconvert_exporter": "python",
   "pygments_lexer": "ipython3",
   "version": "3.11.5"
  }
 },
 "nbformat": 4,
 "nbformat_minor": 2
}
