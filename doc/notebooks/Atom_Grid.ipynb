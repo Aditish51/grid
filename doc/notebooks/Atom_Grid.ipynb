{
  "cells": [
    {
      "cell_type": "markdown",
      "metadata": {
        "collapsed": false
      },
      "source": [
        "# Atom Grids\n",
        "\n",
        "[AtomGrid](../pyapi/grid.atomgrid.rst#grid.atomgrid.AtomGrid) objects have several capabilities useful for quantum chemistry applications. In the following these will be explored as practical examples. For these examples we will use the He atom as a test case. The format checkpoint file wavefunction is included in \"doc/notebooks/He.fchk\" and is\n",
        "read using the [IOData](https://github.com/theochem/iodata) package."
      ]
    },
    {
      "cell_type": "code",
      "execution_count": 8,
      "metadata": {},
      "outputs": [
        {
          "name": "stdout",
          "output_type": "stream",
          "text": [
            "Coordinates of the atoms \n",
            " [[0. 0. 0.]]\n",
            "Atomic numbers of the atom \n",
            " [2]\n"
          ]
        }
      ],
      "source": [
        "import numpy as np\n",
        "from iodata import load_one\n",
        "\n",
        "mol = load_one(\"He_t.fchk\")\n",
        "\n",
        "print(f\"Coordinates of the atoms \\n {mol.atcoords}\")\n",
        "print(f\"Atomic numbers of the atom \\n {mol.atnums}\")"
      ]
    },
    {
      "cell_type": "markdown",
      "metadata": {},
      "source": [
        "First we define a radial grid. In this case we use a linear grid with 100 points equally spaced between 0.1 and 10.0 bohr."
      ]
    },
    {
      "cell_type": "code",
      "execution_count": 9,
      "metadata": {},
      "outputs": [],
      "source": [
        "from grid import AtomGrid\n",
        "from grid import GaussLegendre, BeckeRTransform\n",
        "import numpy as np\n",
        "\n",
        "# Construct a radial grid\n",
        "rad_point_num = 150\n",
        "oned_grid = GaussLegendre(npoints=rad_point_num)\n",
        "radial_grid = BeckeRTransform(0.0, R=1.5).transform_1d_grid(oned_grid)  #BeckeRTransform(0.0, R=2.0).transform_1d_grid(oned_grid)"
      ]
    },
    {
      "cell_type": "markdown",
      "metadata": {},
      "source": [
        "The atomic grid is determined by the (previous) radial grid and an angular grid. In this case we use a Lebedev-Laikov grid with a degree of 29. "
      ]
    },
    {
      "cell_type": "code",
      "execution_count": 10,
      "metadata": {},
      "outputs": [
        {
          "name": "stdout",
          "output_type": "stream",
          "text": [
            "\n",
            "- Specified AtomGrid with 150 radial points and an angular grid with [22] degrees (Levedev-Laikov) has 29100 points.\n"
          ]
        }
      ],
      "source": [
        "angular_degrees = [22]\n",
        "atomgrid = AtomGrid(radial_grid, degrees=angular_degrees)\n",
        "print(f\"\\n- Specified AtomGrid with {radial_grid.size} radial points and an angular grid with \"\n",
        "      f\"{angular_degrees} degrees (Levedev-Laikov) has {atomgrid.size} points.\")\n"
      ]
    },
    {
      "cell_type": "markdown",
      "metadata": {},
      "source": [
        "### Example: Electron Density\n",
        "\n",
        "The electron density $\\rho(\\mathbf{r})$ on the grid points can be computed using the [gbasis](https://github.com/theochem/gbasis) package. These values will be used to showcase the capabilities of the [AtomGrid](../pyapi/grid.atomgrid.rst#grid.atomgrid.AtomGrid) class."
      ]
    },
    {
      "cell_type": "code",
      "execution_count": 11,
      "metadata": {},
      "outputs": [
        {
          "name": "stdout",
          "output_type": "stream",
          "text": [
            "Shape of the electron density: (29100,).\n",
            "The integration of the electron density 1.9999999911143622 should be close to the number of electrons.\n",
            "Number of electrons: 2.\n"
          ]
        }
      ],
      "source": [
        "from gbasis.wrappers import from_iodata\n",
        "from gbasis.evals.density import evaluate_density\n",
        "\n",
        "# Construct molecular basis from wave-function information read by IOData\n",
        "basis, type = from_iodata(mol)\n",
        "\n",
        "# Compute the electron density\n",
        "rdm = mol.one_rdms[\"scf\"]\n",
        "electron_density = evaluate_density(rdm, basis, atomgrid.points, coord_type=type)\n",
        "print(f\"Shape of the electron density: {electron_density.shape}.\")\n",
        "\n",
        "# Integrate using the molecular grid\n",
        "print(f\"The integration of the electron density {atomgrid.integrate(electron_density)} \"\n",
        "      \"should be close to the number of electrons.\")\n",
        "print(f\"Number of electrons: {mol.atnums[0]}.\")"
      ]
    },
    {
      "cell_type": "markdown",
      "metadata": {},
      "source": [
        "#### 1. Calculate the radial electron density distribution\n",
        "\n",
        "The radial distribution of the electron density is the projection of the electron density in the radial coordinate. It describes the probability of finding an electron of the system in the spherical shell between $r$ and $r + dr$. \n",
        "\n",
        "This is calculated by integrating the electron density over the angular coordinates. Please note the factor $r^{2} sin(\\phi)$ in the integral. This is due to the fact that the electron density is defined in spherical coordinates and the volume element is given by $dV = r^{2} sin(\\phi) dr d\\theta d\\phi$.\n",
        "\n",
        "$$\\rho(r) = \\int \\int \\rho(r, \\theta, \\phi) r^{2} sin(\\phi) d\\theta d\\phi$$\n",
        "\n",
        "this can be rewritten for the radial grid points as:\n",
        "\n",
        "$$\\rho(r_i) = r_{i}^{2}  \\int  \\int  \\rho(r, \\theta, \\phi)sin(\\phi) d\\theta d\\phi$$\n",
        "\n",
        "where $r_i$ is a radial grid point. \n",
        "\n",
        "In the following example we calculate the radial electron density distribution for the He atom in the triplet ($1s^2 2s^1$) state using the previously defined atomic grid and the electron density values calculated on the grid points.\n"
      ]
    },
    {
      "cell_type": "code",
      "execution_count": 12,
      "metadata": {},
      "outputs": [
        {
          "data": {
            "image/png": "[encoded data removed]",
            "text/plain": [
              "<Figure size 640x480 with 1 Axes>"
            ]
          },
          "metadata": {},
          "output_type": "display_data"
        }
      ],
      "source": [
        "import matplotlib.pyplot as plt\n",
        "\n",
        "# find the radial electron density distribution using atomgrid angular\n",
        "# integration\n",
        "radial_rho =  atomgrid.integrate_angular_coordinates(electron_density)\n",
        "radial_rho *= radial_grid.points**2\n",
        "\n",
        "# plot the radial electron density\n",
        "y_axis = radial_rho\n",
        "x_axis = radial_grid.points\n",
        "\n",
        "plt.plot(x_axis, y_axis, label='He(1s\u00b92s\u00b9)', color='black')\n",
        "plt.scatter(x_axis, y_axis, color='red', marker='o')\n",
        "plt.xlabel(\"r (bohr)\")\n",
        "plt.ylabel(r\"Radial $\\rho(r)$\")\n",
        "# Set the x-axis range\n",
        "plt.xlim(0, 10)\n",
        "\n",
        "plt.legend()\n",
        "plt.show()\n"
      ]
    },
    {
      "cell_type": "markdown",
      "metadata": {},
      "source": [
        "The maximum values of the radial electron density distribution corresponds to the radial position with maximum probability of finding an electron. In this case there are two maximum values corresponding to the two electrons. The first one (left to right) corresponds to the $1s$ orbital and the second one to the $2s$ orbital.\n",
        "\n",
        "The radial electron density distribution integrates to the total number of electrons in the system over the radial grid. In this case we have two electrons and the integral should be close to 2.0.\n",
        "\n"
      ]
    },
    {
      "cell_type": "code",
      "execution_count": 13,
      "metadata": {},
      "outputs": [
        {
          "name": "stdout",
          "output_type": "stream",
          "text": [
            "The integration of the electron density: 1.9999999911143642 is close to the number of electrons: 2.\n"
          ]
        }
      ],
      "source": [
        "print(f\"The integration of the electron density: {radial_grid.integrate(radial_rho)} is close to \"\n",
        "      f\"the number of electrons: {mol.atnums[0]}.\")"
      ]
    },
    {
      "cell_type": "markdown",
      "metadata": {},
      "source": [
        "#### 2. Calculate classic coulomb repulsion energy\n",
        "\n",
        "The classic coulomb repulsion energy $\\mathbf{J}$ is defined as:\n",
        "\n",
        "$$\\mathbf{J} = \\frac{1}{2} \\int \\int \\frac{\\rho(\\mathbf{r}) \\rho(\\mathbf{r}')}{|\\mathbf{r} - \\mathbf{r}'|} d\\mathbf{r} d\\mathbf{r}'$$\n",
        "\n",
        "where $\\rho(\\mathbf{r})$ is the electron density and $\\mathbf{r}$ is the position vector. This can be rewritten for the grid points as:\n",
        "\n",
        "$$E_{rep} = \\frac{1}{2} \\sum_{i} \\sum_{j} \\frac{\\rho(\\mathbf{r}_i) w_i \\rho(\\mathbf{r}_j) w_j }{|\\mathbf{r}_i - \\mathbf{r}_j|}$$\n",
        "\n",
        "where $\\mathbf{r}_i$ and $\\mathbf{r}_j$ are grid points and $w_i$ and $w_j$ are the corresponding weights.\n",
        "\n",
        "The issue arises when $i = j$, resulting in a zero denominator and an undefined energy. To address this, distinct grids for $\\mathbf{r}_i$ and $\\mathbf{r}_j$ should be employed within the same spatial domain, ensuring that grid points do not coincide. This can be achieved by introducing a second atomic grid with different angular degree. The electron density values on this second grid can be obtained by interpolating from the values on the first grid, utilizing the interpolation method provided by the [AtomGrid](../pyapi/grid.atomgrid.rst#grid.atomgrid.AtomGrid) class.\n",
        "\n"
      ]
    },
    {
      "cell_type": "code",
      "execution_count": 14,
      "metadata": {},
      "outputs": [
        {
          "name": "stdout",
          "output_type": "stream",
          "text": [
            "The classic Coulomb energy is: 1.772374684606753 hartree.\n"
          ]
        }
      ],
      "source": [
        "# Construct a radial grid for the auxiliary atomgrid\n",
        "aux_rad_point_num = rad_point_num - 1\n",
        "oned_grid = GaussLegendre(npoints=aux_rad_point_num)\n",
        "radial_grid = BeckeRTransform(0.0, R=1.5).transform_1d_grid(oned_grid) \n",
        "\n",
        "# Construct the auxiliary atomgrid\n",
        "angular_degrees = [23]\n",
        "aux_atomgrid = AtomGrid(radial_grid, degrees=angular_degrees)\n",
        "\n",
        "# interpolate the electron density on the auxiliary atomgrid points\n",
        "interpolate_electron_density = atomgrid.interpolate(electron_density)\n",
        "electron_density_aux = interpolate_electron_density(aux_atomgrid.points)\n",
        "\n",
        "classic_coulomb = 0.\n",
        "# for each point in the atomgrid\n",
        "for i in range(atomgrid.size):\n",
        "    # compute its distance to all the points in the auxiliary atomgrid\n",
        "    distances = np.linalg.norm(atomgrid.points[i] - aux_atomgrid.points, axis=1)\n",
        "    # compute the coulomb repulsion between the electron density at the atomgrid point and the \n",
        "    # auxiliary atomgrid points\n",
        "    coulomb_points =  atomgrid.weights[i] * electron_density[i] * electron_density_aux / distances / 2\n",
        "    # integrate the coulomb repulsion between the electron density at the atomgrid point and the\n",
        "    # auxiliary atomgrid points\n",
        "    classic_coulomb += aux_atomgrid.integrate(coulomb_points)\n",
        "\n",
        "print(f\"The classic Coulomb energy is: {classic_coulomb} hartree.\")\n"
      ]
    }
  ],
  "metadata": {
    "kernelspec": {
      "display_name": "Python 3",
      "language": "python",
      "name": "python3"
    },
    "language_info": {
      "codemirror_mode": {
        "name": "ipython",
        "version": 3
      },
      "file_extension": ".py",
      "mimetype": "text/x-python",
      "name": "python",
      "nbconvert_exporter": "python",
      "pygments_lexer": "ipython3",
      "version": "3.10.12"
    }
  },
  "nbformat": 4,
  "nbformat_minor": 0
}
